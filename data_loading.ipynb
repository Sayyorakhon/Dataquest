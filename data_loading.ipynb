{
 "cells": [
  {
   "cell_type": "code",
   "execution_count": 5,
   "id": "f287f67d-cb05-44dd-98a4-f0d0230822ee",
   "metadata": {},
   "outputs": [
    {
     "name": "stdout",
     "output_type": "stream",
     "text": [
      "7198\n",
      "['', 'id', 'track_name', 'size_bytes', 'currency', 'price', 'rating_count_tot', 'rating_count_ver', 'user_rating', 'user_rating_ver', 'ver', 'cont_rating', 'prime_genre', 'sup_devices.num', 'ipadSc_urls.num', 'lang.num', 'vpp_lic']\n",
      "[['1', '281656475', 'PAC-MAN Premium', '100788224', 'USD', '3.99', '21292', '26', '4', '4.5', '6.3.5', '4+', 'Games', '38', '5', '10', '1'], ['2', '281796108', 'Evernote - stay organized', '158578688', 'USD', '0', '161065', '26', '4', '3.5', '8.2.2', '4+', 'Productivity', '37', '5', '23', '1']]\n"
     ]
    }
   ],
   "source": [
    "from csv import reader\n",
    "opened_file = open('AppleStore.csv', encoding=\"utf8\")\n",
    "read_file = reader(opened_file)\n",
    "apps_data = list(read_file)\n",
    "print(len(apps_data))\n",
    "print(apps_data[0])\n",
    "print(apps_data[1:3])"
   ]
  },
  {
   "cell_type": "code",
   "execution_count": 7,
   "id": "e1bf34ea-dc91-4561-855b-a16b5c81cf59",
   "metadata": {},
   "outputs": [
    {
     "name": "stdout",
     "output_type": "stream",
     "text": [
      "460.3739057940809\n"
     ]
    }
   ],
   "source": [
    "rating_sum = 0\n",
    "for row in apps_data[1:]:\n",
    "   rating = float(row[7])\n",
    "   rating_sum = rating_sum + rating \n",
    "avg_rating = rating_sum / len(apps_data[1:])\n",
    "print(avg_rating)\n"
   ]
  },
  {
   "cell_type": "code",
   "execution_count": null,
   "id": "792579ad-83eb-4905-a9cc-edca29c56166",
   "metadata": {},
   "outputs": [],
   "source": []
  }
 ],
 "metadata": {
  "kernelspec": {
   "display_name": "Python 3 (ipykernel)",
   "language": "python",
   "name": "python3"
  },
  "language_info": {
   "codemirror_mode": {
    "name": "ipython",
    "version": 3
   },
   "file_extension": ".py",
   "mimetype": "text/x-python",
   "name": "python",
   "nbconvert_exporter": "python",
   "pygments_lexer": "ipython3",
   "version": "3.12.4"
  }
 },
 "nbformat": 4,
 "nbformat_minor": 5
}
