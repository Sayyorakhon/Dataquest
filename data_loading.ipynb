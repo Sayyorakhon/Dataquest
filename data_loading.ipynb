{
 "cells": [
  {
   "cell_type": "code",
   "execution_count": 9,
   "id": "f287f67d-cb05-44dd-98a4-f0d0230822ee",
   "metadata": {},
   "outputs": [
    {
     "name": "stdout",
     "output_type": "stream",
     "text": [
      "The list is not empty\n",
      "The list is not empty\n"
     ]
    }
   ],
   "source": []
  },
  {
   "cell_type": "code",
   "execution_count": 11,
   "id": "06bebcd2-e22c-41e7-bedd-591bcd1c7634",
   "metadata": {},
   "outputs": [
    {
     "name": "stdout",
     "output_type": "stream",
     "text": [
      "1\n",
      "2\n",
      "4\n",
      "5\n"
     ]
    }
   ],
   "source": [
    "for i in range(1, 8):\n",
    "    if i == 3:\n",
    "        continue  \n",
    "    elif i == 6 :\n",
    "        break  \n",
    "    print(i)"
   ]
  },
  {
   "cell_type": "code",
   "execution_count": 19,
   "id": "ec1b920d-0825-4e15-a9dc-f311b5581e74",
   "metadata": {},
   "outputs": [
    {
     "name": "stdout",
     "output_type": "stream",
     "text": [
      "2\n",
      "3\n",
      "5\n"
     ]
    }
   ],
   "source": [
    "my_set = {5, 2, 3}\n",
    "\n",
    "for element in my_set:\n",
    "\n",
    "    print(element)"
   ]
  },
  {
   "cell_type": "code",
   "execution_count": 15,
   "id": "12026f11-b40e-4ea5-9557-a4a8bfb5ff21",
   "metadata": {},
   "outputs": [
    {
     "name": "stdout",
     "output_type": "stream",
     "text": [
      "{1, 2, 3}\n"
     ]
    }
   ],
   "source": [
    "my_set = {1, 2, 3}\n",
    "\n",
    "print(my_set)  # Output: {1, 2, 3}\n"
   ]
  },
  {
   "cell_type": "code",
   "execution_count": 17,
   "id": "460df7d4-1e69-43ca-9661-6c862fd923d3",
   "metadata": {},
   "outputs": [
    {
     "name": "stdout",
     "output_type": "stream",
     "text": [
      "{1, 2}\n"
     ]
    }
   ],
   "source": [
    "my_set = set()\n",
    "\n",
    "my_set.add(1)\n",
    "\n",
    "\n",
    "my_set.add(2)\n",
    "\n",
    "my_set.add(1)\n",
    "\n",
    "print(my_set)"
   ]
  },
  {
   "cell_type": "code",
   "execution_count": 21,
   "id": "0af222a4-f8e2-459a-b927-012ea2a32c67",
   "metadata": {},
   "outputs": [
    {
     "name": "stdout",
     "output_type": "stream",
     "text": [
      "[1, 2, 3, 4, 5]\n"
     ]
    }
   ],
   "source": [
    "my_list = {1, 2, 3, 4, 5}\n",
    "my = list(my_list)\n",
    "print(my)\n"
   ]
  },
  {
   "cell_type": "code",
   "execution_count": 23,
   "id": "b50ee652-46e3-4983-abee-1072e8beaf5c",
   "metadata": {},
   "outputs": [
    {
     "name": "stdout",
     "output_type": "stream",
     "text": [
      "1 1\n",
      "1 2\n",
      "1 3\n",
      "2 1\n",
      "2 2\n",
      "2 3\n",
      "3 1\n",
      "3 2\n",
      "3 3\n"
     ]
    }
   ],
   "source": [
    "for i in range (1,4):\n",
    "    for j in range (1,4):\n",
    "        print(i,j)"
   ]
  },
  {
   "cell_type": "code",
   "execution_count": 43,
   "id": "00411f55-90d1-4b4e-8a06-71cd32f81258",
   "metadata": {},
   "outputs": [
    {
     "name": "stdout",
     "output_type": "stream",
     "text": [
      "100\n",
      "True\n",
      "False\n"
     ]
    }
   ],
   "source": [
    "price = 500\n",
    "if True:\n",
    "    print(100)\n",
    "if False:\n",
    "    print(50)\n",
    "print(price == 400 + 100)\n",
    "print(price == 100 + 100)"
   ]
  },
  {
   "cell_type": "code",
   "execution_count": null,
   "id": "ae1c94d6-2315-4466-8201-27becf240259",
   "metadata": {},
   "outputs": [],
   "source": [
    "# INITIAL CODE\n",
    "opened_file = open('AppleStore.csv')\n",
    "from csv import reader\n",
    "read_file = reader(opened_file)\n",
    "apps_data = list(read_file)\n",
    "\n",
    "free_apps_ratings = []\n",
    "for row in apps_data[1:]:\n",
    "    rating = float(row[7])\n",
    "    price = float(row[4])   \n",
    "    if price == 0.0:\n",
    "        free_apps_ratings.append(rating)\n",
    "    \n",
    "avg_rating_free = sum(free_apps_ratings) / len(free_apps_ratings)\n",
    "non_free_apps_ratings = []\n",
    "for row in apps_data[1:]:\n",
    "    rating = float(row[7])\n",
    "    price = float(row[4])   \n",
    "    if price != 0.0:\n",
    "        non_free_apps_ratings.append(rating)\n",
    "\n",
    "avg_rating_non_free = sum(non_free_apps_ratings) / len(non_free_apps_ratings) \n",
    "if avg_rating_free > avg_rating_non_free:\n",
    "    print('free apps are better')\n",
    "elif avg_rating_free < avg_rating_non_free:\n",
    "    print('non free are better')\n",
    "else:\n",
    "    print('they are same')"
   ]
  },
  {
   "cell_type": "code",
   "execution_count": 45,
   "id": "8baeaaeb-9b76-4d40-a3b3-b10f6a9d2388",
   "metadata": {},
   "outputs": [
    {
     "ename": "UnicodeDecodeError",
     "evalue": "'charmap' codec can't decode byte 0x9d in position 8066: character maps to <undefined>",
     "output_type": "error",
     "traceback": [
      "\u001b[1;31m---------------------------------------------------------------------------\u001b[0m",
      "\u001b[1;31mUnicodeDecodeError\u001b[0m                        Traceback (most recent call last)",
      "Cell \u001b[1;32mIn[45], line 4\u001b[0m\n\u001b[0;32m      2\u001b[0m \u001b[38;5;28;01mfrom\u001b[39;00m \u001b[38;5;21;01mcsv\u001b[39;00m \u001b[38;5;28;01mimport\u001b[39;00m reader\n\u001b[0;32m      3\u001b[0m read_file \u001b[38;5;241m=\u001b[39m reader(opened_file)\n\u001b[1;32m----> 4\u001b[0m apps_data \u001b[38;5;241m=\u001b[39m \u001b[38;5;28mlist\u001b[39m(read_file)\n\u001b[0;32m      5\u001b[0m non_games_ratings \u001b[38;5;241m=\u001b[39m []\n\u001b[0;32m      6\u001b[0m \u001b[38;5;28;01mfor\u001b[39;00m row \u001b[38;5;129;01min\u001b[39;00m apps_data[\u001b[38;5;241m1\u001b[39m:]:\n",
      "File \u001b[1;32m~\\anaconda3\\Lib\\encodings\\cp1252.py:23\u001b[0m, in \u001b[0;36mIncrementalDecoder.decode\u001b[1;34m(self, input, final)\u001b[0m\n\u001b[0;32m     22\u001b[0m \u001b[38;5;28;01mdef\u001b[39;00m \u001b[38;5;21mdecode\u001b[39m(\u001b[38;5;28mself\u001b[39m, \u001b[38;5;28minput\u001b[39m, final\u001b[38;5;241m=\u001b[39m\u001b[38;5;28;01mFalse\u001b[39;00m):\n\u001b[1;32m---> 23\u001b[0m     \u001b[38;5;28;01mreturn\u001b[39;00m codecs\u001b[38;5;241m.\u001b[39mcharmap_decode(\u001b[38;5;28minput\u001b[39m,\u001b[38;5;28mself\u001b[39m\u001b[38;5;241m.\u001b[39merrors,decoding_table)[\u001b[38;5;241m0\u001b[39m]\n",
      "\u001b[1;31mUnicodeDecodeError\u001b[0m: 'charmap' codec can't decode byte 0x9d in position 8066: character maps to <undefined>"
     ]
    }
   ],
   "source": [
    "opened_file = open('AppleStore.csv')\n",
    "from csv import reader\n",
    "read_file = reader(opened_file)\n",
    "apps_data = list(read_file)\n",
    "non_games_ratings = []\n",
    "for row in apps_data[1:]:\n",
    "    rating = float(row[7])\n",
    "    genre = row[11]\n",
    "    if genre != 'Games':\n",
    "        non_games_ratings.append(rating)\n",
    "avg_rating_non_games = sum(non_games_ratings) / len(non_games_ratings)\n",
    "print(avg_rating_non_games)\n",
    "avg_rating_games = 3.6850077679958573\n",
    "if avg_rating_games > avg_rating_non_games:\n",
    "    print('games are more popular')"
   ]
  },
  {
   "cell_type": "code",
   "execution_count": null,
   "id": "64a7daf9-ccc9-4977-ab1c-01341ed3672d",
   "metadata": {},
   "outputs": [],
   "source": [
    "opened_file = open('AppleStore.csv')\n",
    "from csv import reader\n",
    "read_file = reader(opened_file)\n",
    "apps_data = list(read_file)\n",
    "\n",
    "free_games_ratings = []\n",
    "for row in apps_data[1:]:\n",
    "    rating = float(row[7])\n",
    "    price = float(row[4])\n",
    "    genre = row[11]\n",
    "    # Complete code from here\n",
    "    if price == 0 and genre == 'Games':\n",
    "        free_games_ratings.append(rating) \n",
    "avg_rating_free_games = sum(free_games_ratings) / len(free_games_ratings)\n",
    "            "
   ]
  },
  {
   "cell_type": "code",
   "execution_count": null,
   "id": "6ae9dabf-0c88-4ee7-ac1c-90a46a613b12",
   "metadata": {},
   "outputs": [],
   "source": [
    "opened_file = open('AppleStore.csv')\n",
    "from csv import reader\n",
    "read_file = reader(opened_file)\n",
    "apps_data = list(read_file)\n",
    "\n",
    "games_social_ratings = []\n",
    "for row in apps_data[1:]:\n",
    "    rating = float(row[7])\n",
    "    genre = row[11]\n",
    "    # Complete code from here\n",
    "    if genre =='Social Networking' or genre =='Games':\n",
    "        games_social_ratings.append(rating)\n",
    "avg_games_social = sum(games_social_ratings) / len(games_social_ratings) "
   ]
  }
 ],
 "metadata": {
  "kernelspec": {
   "display_name": "Python 3 (ipykernel)",
   "language": "python",
   "name": "python3"
  },
  "language_info": {
   "codemirror_mode": {
    "name": "ipython",
    "version": 3
   },
   "file_extension": ".py",
   "mimetype": "text/x-python",
   "name": "python",
   "nbconvert_exporter": "python",
   "pygments_lexer": "ipython3",
   "version": "3.12.4"
  }
 },
 "nbformat": 4,
 "nbformat_minor": 5
}
