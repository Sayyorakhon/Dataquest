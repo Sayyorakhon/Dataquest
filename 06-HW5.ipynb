{
 "cells": [
  {
   "cell_type": "markdown",
   "id": "92525a92-7984-4d6d-a499-8d841d41b154",
   "metadata": {},
   "source": [
    "**Q1**: Use a loop to print \"I know how to use while loops\" exactly 12 times."
   ]
  },
  {
   "cell_type": "code",
   "execution_count": null,
   "id": "9d2ea386-f4ce-4a60-b4e4-a85e93a96f12",
   "metadata": {},
   "outputs": [],
   "source": []
  },
  {
   "cell_type": "code",
   "execution_count": 1,
   "id": "2897c719-96f6-4828-bae4-368ceed33f3d",
   "metadata": {},
   "outputs": [
    {
     "name": "stdout",
     "output_type": "stream",
     "text": [
      "I know how to use while loops\n",
      "I know how to use while loops\n",
      "I know how to use while loops\n",
      "I know how to use while loops\n",
      "I know how to use while loops\n",
      "I know how to use while loops\n",
      "I know how to use while loops\n",
      "I know how to use while loops\n",
      "I know how to use while loops\n",
      "I know how to use while loops\n",
      "I know how to use while loops\n",
      "I know how to use while loops\n"
     ]
    }
   ],
   "source": [
    "i = 0\n",
    "while i < 12:\n",
    "    print(\"I know how to use while loops\")\n",
    "    i += 1"
   ]
  },
  {
   "cell_type": "code",
   "execution_count": null,
   "id": "fe8047d5-8fac-49a0-9411-aafde96b8a85",
   "metadata": {},
   "outputs": [],
   "source": []
  },
  {
   "cell_type": "markdown",
   "id": "265182d9-7484-45f2-908b-aace630b4f71",
   "metadata": {},
   "source": [
    "**Q2**: Can you use a while loop to print the\\\n",
    "digits from 0 to 9 in order (including 0 and 9)?\\\n",
    "Your loop should execute 10 times.\n"
   ]
  },
  {
   "cell_type": "code",
   "execution_count": 17,
   "id": "c8ac4534-ec2d-40c5-9473-c1583be4fc3e",
   "metadata": {},
   "outputs": [
    {
     "name": "stdout",
     "output_type": "stream",
     "text": [
      "0\n",
      "1\n",
      "2\n",
      "3\n",
      "4\n",
      "5\n",
      "6\n",
      "7\n",
      "8\n",
      "9\n"
     ]
    }
   ],
   "source": [
    "i = 0\n",
    "while i < 10:\n",
    "    print(i)\n",
    "    i += 1"
   ]
  },
  {
   "cell_type": "markdown",
   "id": "6c079f61-2730-479b-a450-2d9597121f62",
   "metadata": {},
   "source": [
    "**Q3** Can you use a while loop to print all multiples of 10 from 10 to 90 in order (including 10 and 90)?"
   ]
  },
  {
   "cell_type": "code",
   "execution_count": 21,
   "id": "d4745404-d4c4-4426-b774-5fe128f32d74",
   "metadata": {},
   "outputs": [
    {
     "name": "stdout",
     "output_type": "stream",
     "text": [
      "10\n",
      "20\n",
      "30\n",
      "40\n",
      "50\n",
      "60\n",
      "70\n",
      "80\n",
      "90\n"
     ]
    }
   ],
   "source": [
    "i = 10\n",
    "while i < 100:\n",
    "    print(i)\n",
    "    i += 10"
   ]
  },
  {
   "cell_type": "markdown",
   "id": "5da98060-299b-4ab8-809f-bcb7e79482f3",
   "metadata": {},
   "source": [
    "**Q4** Using a for loop, print the numbers 0 through 12, in order, including 0 and 12."
   ]
  },
  {
   "cell_type": "code",
   "execution_count": 23,
   "id": "abcfdae3-7ab0-4bbf-8a1a-06e3e42ace0f",
   "metadata": {},
   "outputs": [
    {
     "name": "stdout",
     "output_type": "stream",
     "text": [
      "0\n",
      "1\n",
      "2\n",
      "3\n",
      "4\n",
      "5\n",
      "6\n",
      "7\n",
      "8\n",
      "9\n",
      "10\n",
      "11\n",
      "12\n"
     ]
    }
   ],
   "source": [
    "for i in range(13):\n",
    "    print(i)"
   ]
  },
  {
   "cell_type": "markdown",
   "id": "6b87fa60-2b32-4690-95f1-5fd2176df643",
   "metadata": {},
   "source": [
    "**Q5** Using a for loop, print the numbers 10 through 20, in order, including 10 and 20."
   ]
  },
  {
   "cell_type": "code",
   "execution_count": 25,
   "id": "f8e84473-fceb-42bc-a074-8b9ef584a3ef",
   "metadata": {},
   "outputs": [
    {
     "name": "stdout",
     "output_type": "stream",
     "text": [
      "10\n",
      "11\n",
      "12\n",
      "13\n",
      "14\n",
      "15\n",
      "16\n",
      "17\n",
      "18\n",
      "19\n",
      "20\n"
     ]
    }
   ],
   "source": [
    "for i in range(10,21):\n",
    "    print(i)\n",
    "    "
   ]
  },
  {
   "cell_type": "markdown",
   "id": "9f496a75-6b06-4c70-9b50-2ae257d21edb",
   "metadata": {},
   "source": [
    "**Q6** Using a for loop, print all multiples of 10 from 0 to 100, in order, including 0 and 100."
   ]
  },
  {
   "cell_type": "code",
   "execution_count": 31,
   "id": "27830646-c091-4140-a809-018f64cf3a20",
   "metadata": {},
   "outputs": [
    {
     "name": "stdout",
     "output_type": "stream",
     "text": [
      "0\n",
      "10\n",
      "20\n",
      "30\n",
      "40\n",
      "50\n",
      "60\n",
      "70\n",
      "80\n",
      "90\n",
      "100\n"
     ]
    }
   ],
   "source": [
    "for i in range(0, 101, 10):\n",
    "    print(i)"
   ]
  },
  {
   "cell_type": "markdown",
   "id": "200bc0f8-9248-432f-af56-e6cd686ed58f",
   "metadata": {},
   "source": [
    "**Q7** Using a for loop, print the numbers 20 through 10, in reverse order, including 20 and 10."
   ]
  },
  {
   "cell_type": "code",
   "execution_count": 35,
   "id": "baa55e7b-298e-46cc-b841-b5143c932d19",
   "metadata": {},
   "outputs": [
    {
     "name": "stdout",
     "output_type": "stream",
     "text": [
      "20\n",
      "19\n",
      "18\n",
      "17\n",
      "16\n",
      "15\n",
      "14\n",
      "13\n",
      "12\n",
      "11\n",
      "10\n"
     ]
    }
   ],
   "source": [
    "for i in range(20,9, -1):\n",
    "    print(i)"
   ]
  },
  {
   "cell_type": "markdown",
   "id": "442034d4-95fb-45a5-858e-8a0ef5f03cd7",
   "metadata": {},
   "source": [
    "**Q8** Using nested loops, print all pairs of numbers from 3, 4, 5, where the order of each pair matters."
   ]
  },
  {
   "cell_type": "code",
   "execution_count": 37,
   "id": "1f268a36-9c3d-4f57-b6e1-4470cd2a8e30",
   "metadata": {},
   "outputs": [
    {
     "name": "stdout",
     "output_type": "stream",
     "text": [
      "3 3\n",
      "3 4\n",
      "3 5\n",
      "4 3\n",
      "4 4\n",
      "4 5\n",
      "5 3\n",
      "5 4\n",
      "5 5\n"
     ]
    }
   ],
   "source": [
    "for i in range(3, 6):\n",
    "\n",
    "    for j in range(3, 6):\n",
    "\n",
    "        print(i, j)"
   ]
  },
  {
   "cell_type": "code",
   "execution_count": null,
   "id": "4d963339-630c-46b0-a5d3-6eddd3e016b7",
   "metadata": {},
   "outputs": [],
   "source": [
    "opened_file = open('AppleStore.csv')\n",
    "from csv import reader\n",
    "read_file = reader(opened_file)\n",
    "apps_data = list(read_file)\n",
    "\n",
    "free_games_social_ratings = []\n",
    "for row in apps_data[1:]:\n",
    "    rating = float(row[7])\n",
    "    genre = row[11]\n",
    "    price = float(row[4])\n",
    "    \n",
    "    if (genre == 'Social Networking' or genre == 'Games') and price == 0:\n",
    "        free_games_social_ratings.append(rating)\n",
    "        \n",
    "avg_free = sum(free_games_social_ratings) / len(free_games_social_ratings)\n",
    "\n",
    "# Not-free apps (average)\n",
    "not_free_games_social_ratings = []\n",
    "for row in apps_data[1:]:\n",
    "    rating = float(row[7])\n",
    "    genre = row[11]\n",
    "    price = float(row[4])\n",
    "    \n",
    "    if (genre == 'Social Networking' or genre == 'Games') and price != 0:\n",
    "        not_free_games_social_ratings.append(rating)\n",
    "        \n",
    "avg_not_free = sum(not_free_games_social_ratings) / len(not_free_games_social_ratings)"
   ]
  },
  {
   "cell_type": "code",
   "execution_count": null,
   "id": "e5eb648a-7d74-4ba1-a280-3aac477147b3",
   "metadata": {},
   "outputs": [],
   "source": [
    "x = -6\n",
    "y = 14\n",
    "z = 8.5\n",
    "if x > z:\n",
    "    print('x>z')\n",
    "if y != z:\n",
    "    print('y is not equal to z')\n",
    "if x < z and z < y:\n",
    "    print('z is between x and y')"
   ]
  },
  {
   "cell_type": "code",
   "execution_count": 5,
   "id": "54fe3424-7235-430a-a4cd-753c32663601",
   "metadata": {},
   "outputs": [
    {
     "name": "stdout",
     "output_type": "stream",
     "text": [
      "{'a': 1, 'b': 1, 'c': 1}\n"
     ]
    }
   ],
   "source": [
    "my_dict = {\"a\": 1, \"b\": 1, \"c\": 1} \n",
    "print(my_dict)"
   ]
  },
  {
   "cell_type": "code",
   "execution_count": 15,
   "id": "fec82341-51fd-429f-bd8b-ee0d60cb60c5",
   "metadata": {},
   "outputs": [
    {
     "name": "stdout",
     "output_type": "stream",
     "text": [
      "a 1\n",
      "b 2\n",
      "c 3\n"
     ]
    }
   ],
   "source": [
    "my_dict = {\"a\": 1, \"b\": 2, \"c\": 3}\n",
    "\n",
    "for key in my_dict:\n",
    "    value = my_dict[key]\n",
    "    print(key, value)\n"
   ]
  },
  {
   "cell_type": "code",
   "execution_count": 13,
   "id": "bd67051d-f6cb-4a7e-b1e7-a60e8d18690a",
   "metadata": {},
   "outputs": [
    {
     "name": "stdout",
     "output_type": "stream",
     "text": [
      "a 1\n",
      "b 2\n",
      "c 3\n"
     ]
    }
   ],
   "source": [
    "my_dict = {\"a\": 1, \"b\": 2, \"c\": 3}\n",
    "\n",
    "for key, value in my_dict.items():\n",
    "    print(key, value)"
   ]
  },
  {
   "cell_type": "code",
   "execution_count": 17,
   "id": "e8287e24-f994-44bf-bde8-eeb49813bacd",
   "metadata": {},
   "outputs": [
    {
     "name": "stdout",
     "output_type": "stream",
     "text": [
      "{'b': 2, 'c': 3}\n"
     ]
    }
   ],
   "source": [
    "my_dict = {\"a\": 1, \"b\": 2, \"c\": 3}\n",
    "\n",
    "my_dict.pop(\"a\")\n",
    "\n",
    "print(my_dict)"
   ]
  },
  {
   "cell_type": "code",
   "execution_count": 25,
   "id": "90db0289-4115-4945-981f-9f5f2168f8d5",
   "metadata": {},
   "outputs": [
    {
     "name": "stdout",
     "output_type": "stream",
     "text": [
      "0\n"
     ]
    }
   ],
   "source": [
    "my_dict = {\"a\": 1, \"b\": 2, \"c\": 3}\n",
    "value = my_dict.pop(\"d\", 0)\n",
    "print(value)\n"
   ]
  },
  {
   "cell_type": "code",
   "execution_count": 27,
   "id": "ce34ae0b-debf-4e84-b4ee-0e7a5d66f2f8",
   "metadata": {},
   "outputs": [
    {
     "name": "stdout",
     "output_type": "stream",
     "text": [
      "{'b': 2, 'c': 3}\n"
     ]
    }
   ],
   "source": [
    "my_dict = {\"a\": 1, \"b\": 2, \"c\": 3}\n",
    "\n",
    "del my_dict[\"a\"]\n",
    "print(my_dict)\n"
   ]
  },
  {
   "cell_type": "code",
   "execution_count": 42,
   "id": "cc5e7237-b001-401b-92d8-d0de2e5a2914",
   "metadata": {},
   "outputs": [
    {
     "name": "stdout",
     "output_type": "stream",
     "text": [
      "1\n",
      "2\n",
      "3\n"
     ]
    }
   ],
   "source": [
    "my_dict = {\"a\": 1, \"b\": 2, \"c\": 3} \n",
    "for v in my_dict.values(): \n",
    "    print(v)"
   ]
  },
  {
   "cell_type": "code",
   "execution_count": 44,
   "id": "a8406cb0-f899-499d-a635-80a5cff54d71",
   "metadata": {},
   "outputs": [
    {
     "name": "stdout",
     "output_type": "stream",
     "text": [
      "[1, 2, 3]\n"
     ]
    }
   ],
   "source": [
    "my_dict = {\"a\": 1, \"b\": 2, \"c\": 3}\n",
    "\n",
    "v = list(my_dict.values())\n",
    "\n",
    "print(v)"
   ]
  },
  {
   "cell_type": "code",
   "execution_count": 48,
   "id": "6f33c070-64de-4d65-bb79-f36a0d7743b7",
   "metadata": {},
   "outputs": [
    {
     "name": "stdout",
     "output_type": "stream",
     "text": [
      "{1: 3, 2: 3, 3: 3}\n"
     ]
    }
   ],
   "source": [
    "count = {\n",
    "    1: 3,\n",
    "    2: 3,\n",
    "    3: 3\n",
    "}\n",
    "print(count)"
   ]
  },
  {
   "cell_type": "code",
   "execution_count": 52,
   "id": "1d3d212a-24ff-409c-ba94-7b457eb20570",
   "metadata": {},
   "outputs": [
    {
     "name": "stdout",
     "output_type": "stream",
     "text": [
      "a 1\n",
      "b 2\n",
      "c 3\n"
     ]
    }
   ],
   "source": [
    "my_dict = {\"a\": 1, \"b\": 2, \"c\": 3}\n",
    "\n",
    "for key, value in my_dict.items():\n",
    "    print(key, value)"
   ]
  },
  {
   "cell_type": "code",
   "execution_count": 58,
   "id": "d6e5f329-a9a5-476c-abb2-6ee2bbcf5b6e",
   "metadata": {},
   "outputs": [
    {
     "name": "stdout",
     "output_type": "stream",
     "text": [
      "Enter your name:\n"
     ]
    },
    {
     "name": "stdin",
     "output_type": "stream",
     "text": [
      " Sayyorakhon\n"
     ]
    },
    {
     "name": "stdout",
     "output_type": "stream",
     "text": [
      "Hello, Sayyorakhon\n"
     ]
    }
   ],
   "source": [
    "print(\"Enter your name:\")\n",
    "x = input()\n",
    "print(\"Hello, \" + x)\n"
   ]
  },
  {
   "cell_type": "code",
   "execution_count": 56,
   "id": "4b7b5028-62a6-4c81-8a66-e66225b60f2d",
   "metadata": {},
   "outputs": [
    {
     "name": "stdout",
     "output_type": "stream",
     "text": [
      "['welcome', 'to', 'the', 'jungle']\n"
     ]
    }
   ],
   "source": [
    "txt = \"welcome to the jungle\"\n",
    "\n",
    "x = txt.split()\n",
    "\n",
    "print(x)"
   ]
  },
  {
   "cell_type": "code",
   "execution_count": 60,
   "id": "403befc6-afb1-4867-bc36-da5964f58aa3",
   "metadata": {},
   "outputs": [
    {
     "name": "stdout",
     "output_type": "stream",
     "text": [
      "An error occurred!\n",
      "This will be printed regardless.\n"
     ]
    }
   ],
   "source": [
    "try:\n",
    "   # code that might cause an error\n",
    "   result = 10 / 0\n",
    "except:\n",
    "   print(\"An error occurred!\")\n",
    "\n",
    "\n",
    "print(\"This will be printed regardless.\")\n"
   ]
  },
  {
   "cell_type": "code",
   "execution_count": 62,
   "id": "fa5620bd-268b-469f-8b2a-3f2044d7c1ad",
   "metadata": {},
   "outputs": [
    {
     "name": "stdout",
     "output_type": "stream",
     "text": [
      "An error occurred: name 'a' is not defined\n"
     ]
    }
   ],
   "source": [
    "try:\n",
    "   num1 = int(a)\n",
    "   num2 = int(b)\n",
    "   result = num1 / num2\n",
    "except ValueError:\n",
    "   print(\"Error: Invalid value!\")\n",
    "except ZeroDivisionError:\n",
    "   print(\"Error: Division by zero!\")\n",
    "except Exception as error:\n",
    "   print(\"An error occurred:\", error)"
   ]
  },
  {
   "cell_type": "code",
   "execution_count": 64,
   "id": "304d0ecc-e258-41e9-9e8f-f85f1a54cccd",
   "metadata": {},
   "outputs": [
    {
     "ename": "SyntaxError",
     "evalue": "incomplete input (1190605995.py, line 1)",
     "output_type": "error",
     "traceback": [
      "\u001b[1;36m  Cell \u001b[1;32mIn[64], line 1\u001b[1;36m\u001b[0m\n\u001b[1;33m    def sort(key=None, reverse=False):\u001b[0m\n\u001b[1;37m                                      ^\u001b[0m\n\u001b[1;31mSyntaxError\u001b[0m\u001b[1;31m:\u001b[0m incomplete input\n"
     ]
    }
   ],
   "source": [
    "def sort(key=None, reverse=False):\n"
   ]
  },
  {
   "cell_type": "code",
   "execution_count": 66,
   "id": "5d5b35a0-07f2-4ce0-9e52-225a1f52b913",
   "metadata": {},
   "outputs": [
    {
     "name": "stdout",
     "output_type": "stream",
     "text": [
      "[6, 5, 3, 2, 1]\n"
     ]
    }
   ],
   "source": [
    "elements = [5, 3, 6, 2, 1]\n",
    "\n",
    "elements.sort(key=None, reverse=True)\n",
    "\n",
    "print(elements) # [6, 5, 3, 2, 1]\n"
   ]
  },
  {
   "cell_type": "code",
   "execution_count": 82,
   "id": "56df085f-22c5-4703-8739-d0cc13eb048b",
   "metadata": {},
   "outputs": [
    {
     "name": "stdout",
     "output_type": "stream",
     "text": [
      "[6, 5, 3, 2, 1]\n",
      "[6, 5, 3, 2, 1]\n"
     ]
    }
   ],
   "source": [
    "elements.sort(reverse=True)\n",
    "print(elements)\n",
    "elements = [5, 3, 6, 2, 1]\n",
    "\n",
    "elements.sort()\n",
    "\n",
    "elements.reverse()\n",
    "print(elements)"
   ]
  },
  {
   "cell_type": "code",
   "execution_count": 84,
   "id": "82414d69-b60b-4c69-ac0e-ae629d9c56a9",
   "metadata": {},
   "outputs": [
    {
     "name": "stdout",
     "output_type": "stream",
     "text": [
      "['kiwi', 'pear', 'apple', 'banana', 'cherry', 'blueberry', 'watermelon']\n"
     ]
    }
   ],
   "source": [
    "def get_word_length(word):\n",
    "   return len(word)\n",
    "words = [\"apple\", \"banana\", \"kiwi\", \"pear\", \"watermelon\", \"blueberry\", \"cherry\"]\n",
    "words.sort(key=get_word_length)\n",
    "print(words) # ['kiwi', 'pear', 'apple', 'banana', 'cherry', 'blueberry', 'watermelon']\n"
   ]
  },
  {
   "cell_type": "code",
   "execution_count": 88,
   "id": "667dca2d-b212-4860-9c24-d16f696f1793",
   "metadata": {},
   "outputs": [
    {
     "name": "stdout",
     "output_type": "stream",
     "text": [
      "['kiwi', 'pear', 'apple', 'banana', 'cherry']\n"
     ]
    }
   ],
   "source": [
    "def get_word_length(word):\n",
    "   return len(word)\n",
    "words = [\"apple\", \"banana\", \"kiwi\", \"pear\", \"cherry\"]\n",
    "words.sort(key=get_word_length)\n",
    "print(words) # ['kiwi', 'pear', 'apple', 'banana', 'cherry', 'blueberry', 'watermelon']\n"
   ]
  },
  {
   "cell_type": "code",
   "execution_count": 94,
   "id": "1461dede-b8ca-437f-ae3f-af2a39b84ec2",
   "metadata": {},
   "outputs": [
    {
     "name": "stdout",
     "output_type": "stream",
     "text": [
      "['kiwi', 'pear', 'apple', 'banana', 'cherry']\n"
     ]
    }
   ],
   "source": [
    "words = [\"apple\", \"banana\", \"kiwi\", \"pear\", \"cherry\"]\n",
    "\n",
    "words.sort(key=lambda word: len(word))\n",
    "\n",
    "print(words) # ['kiwi', 'pear', 'apple', 'banana', 'cherry', 'blueberry', 'watermelon']"
   ]
  },
  {
   "cell_type": "code",
   "execution_count": 98,
   "id": "4b0a91d9-49c1-4d59-b79d-c8c719fce17b",
   "metadata": {},
   "outputs": [
    {
     "name": "stdout",
     "output_type": "stream",
     "text": [
      "['apple', 'banana', 'cherry', 'kiwi', 'pear']\n"
     ]
    }
   ],
   "source": [
    "words = [\"kiwi\", \"pear\", \"apple\", \"banana\", \"cherry\", ]\n",
    "\n",
    "sorted_words = sorted(words)\n",
    "\n",
    "print(sorted_words) # ['apple', 'banana', 'blueberry', 'cherry', 'kiwi', 'pear']\n"
   ]
  },
  {
   "cell_type": "code",
   "execution_count": 104,
   "id": "5442eebd-f4b0-4369-a387-b4c8c8310a85",
   "metadata": {},
   "outputs": [
    {
     "name": "stdout",
     "output_type": "stream",
     "text": [
      "['kiwi', 'pear', 'apple', 'banana', 'cherry', 'blueberry', 'watermelon']\n"
     ]
    }
   ],
   "source": [
    "words = [\"apple\", \"banana\", \"kiwi\", \"pear\", \"watermelon\", \"blueberry\", \"cherry\"]\n",
    "\n",
    "words.sort(key=lambda word: len(word))\n",
    "print(words)"
   ]
  },
  {
   "cell_type": "code",
   "execution_count": null,
   "id": "56e781a8-ce62-44b9-9398-1e87edd6fe67",
   "metadata": {},
   "outputs": [],
   "source": [
    "x = -6\n",
    "y = 14\n",
    "z = 8.5\n",
    "if x > z:\n",
    "    print('x>z')\n",
    "if y != z:\n",
    "    print('y is not equal to z')\n",
    "if x < z and z < y:\n",
    "    print('z is between x and y')"
   ]
  },
  {
   "cell_type": "code",
   "execution_count": null,
   "id": "77171fe7-3a4e-446a-9b57-f4dcd1f22d1f",
   "metadata": {},
   "outputs": [],
   "source": [
    "opened_file = open('AppleStore.csv')\n",
    "from csv import reader\n",
    "read_file = reader(opened_file)\n",
    "apps_data = list(read_file)\n",
    "n_apps_more_9 = 0\n",
    "rating_sum = 0\n",
    "n_apps_less_9 = 0\n",
    "#print(apps_data[0])\n",
    "for row in apps_data[1:]:\n",
    "    price = float(row[4])\n",
    "    rating = float(row[7])\n",
    "    if price > 9.0:\n",
    "        n_apps_more_9 += 1\n",
    "        rating_sum += rating\n",
    "    else:\n",
    "        n_apps_less_9 += 1\n",
    "\n",
    "print(n_apps_more_9)\n",
    "avg_rating = rating_sum / n_apps_more_9"
   ]
  },
  {
   "cell_type": "code",
   "execution_count": null,
   "id": "456b1276-5b34-4951-b523-e104117b7b3b",
   "metadata": {},
   "outputs": [],
   "source": [
    "opened_file = open('AppleStore.csv')\n",
    "from csv import reader\n",
    "read_file = reader(opened_file)\n",
    "apps_data = list(read_file)\n",
    "\n",
    "for app in apps_data[1:]:\n",
    "    price = float(app[4])\n",
    "    # Complete code from here\n",
    "    if price == 0.0:\n",
    "        app.append('free')\n",
    "    else:\n",
    "        app.append('not free')\n",
    "apps_data[0].append('free_or_not')\n",
    "print(apps_data[:6])"
   ]
  },
  {
   "cell_type": "code",
   "execution_count": null,
   "id": "7a6df386-d23f-473e-9e1b-65b852b94765",
   "metadata": {},
   "outputs": [],
   "source": [
    "app_ratings = [['Facebook', 3.5], ['Notion', 4.0], ['Astropad Standard', 4.5], ['NAVIGON Europe', 3.5]]\n",
    "for app in app_ratings:\n",
    "    rating = app[1]\n",
    "    if rating < 3.0:\n",
    "        app.append('below average')\n",
    "    elif rating >= 3.0 and rating < 4.0:\n",
    "        app.append('roughly average')\n",
    "    elif rating >= 4.0:\n",
    "        app.append('better than average')\n",
    "print(app_ratings)        "
   ]
  },
  {
   "cell_type": "code",
   "execution_count": null,
   "id": "7e8d1c77-9ab5-4965-8c4a-e5429354084b",
   "metadata": {},
   "outputs": [],
   "source": [
    "opened_file = open('AppleStore.csv')\n",
    "from csv import reader\n",
    "read_file = reader(opened_file)\n",
    "apps_data = list(read_file)\n",
    "\n",
    "for app in apps_data[1:]:\n",
    "    price = float(app[4])\n",
    "    # Complete code from here\n",
    "    if price == 0:\n",
    "        app.append('free')\n",
    "    elif price > 0 and price < 20:\n",
    "        app.append('affordable')\n",
    "    elif price >= 20 and price < 50:\n",
    "        app.append('expensive')\n",
    "    elif price >= 50:\n",
    "        app.append('very expensive')\n",
    "apps_data[0].append('price_label')\n",
    "print(apps_data[:6])\n",
    "        \n",
    "    "
   ]
  },
  {
   "cell_type": "code",
   "execution_count": null,
   "id": "06eef8e0-2dfc-4a99-9fce-fddf1882903d",
   "metadata": {},
   "outputs": [],
   "source": [
    "content_ratings = ['4+', '9+', '12+', '17+']\n",
    "numbers = [4433, 987, 1155, 622]\n",
    "content_rating_numbers = [['4+', '9+', '12+', '17+'], [4433, 987, 1155, 622]]\n"
   ]
  },
  {
   "cell_type": "code",
   "execution_count": null,
   "id": "d991465d-1d4e-455b-bcc0-da56e2832b03",
   "metadata": {},
   "outputs": [],
   "source": [
    "content_ratings = {'4+': 4433, '9+': 987, '12+': 1155, '17+':622}\n",
    "print(content_ratings)"
   ]
  },
  {
   "cell_type": "code",
   "execution_count": null,
   "id": "c3a09c38-7cac-41e7-b2c6-62c2cec853bc",
   "metadata": {},
   "outputs": [],
   "source": [
    "content_ratings = {'4+': 4433, '9+': 987, '12+': 1155, '17+': 622}\n",
    "over_9 = (content_ratings['9+'])\n",
    "over_17 = (content_ratings['17+'])\n",
    "print(over_9)\n",
    "print(over_17)"
   ]
  },
  {
   "cell_type": "code",
   "execution_count": null,
   "id": "6c7dda70-0e2f-4983-a178-81e56afdfa03",
   "metadata": {},
   "outputs": [],
   "source": [
    "content_ratings = {}\n",
    "content_ratings['12+'] = 1155\n",
    "content_ratings['17+'] = 622\n",
    "content_ratings['4+'] = 4433\n",
    "content_ratings['9+'] = 987\n",
    "over_12_n_apps = content_ratings['12+']\n",
    "print(over_12_n_apps)"
   ]
  },
  {
   "cell_type": "code",
   "execution_count": null,
   "id": "47e19871-dcbb-4e09-a143-59929ca4b10d",
   "metadata": {},
   "outputs": [],
   "source": [
    "error = True\n",
    "print(error)"
   ]
  },
  {
   "cell_type": "code",
   "execution_count": null,
   "id": "3327edc8-da6e-440e-bfda-7394cf365c45",
   "metadata": {},
   "outputs": [],
   "source": [
    "d_1 = {'key_1': 'first_value', \n",
    "       'key_2': 2,\n",
    "       'key_3': 3.14,\n",
    "       'key_4': True,\n",
    "       'key_5': [4,2,1],\n",
    "       'key_6': {'inner_key' : 6}}\n",
    " "
   ]
  },
  {
   "cell_type": "code",
   "execution_count": 1,
   "id": "8c6132fa-a448-43ba-95d0-da42dec15684",
   "metadata": {},
   "outputs": [
    {
     "name": "stdout",
     "output_type": "stream",
     "text": [
      "4\n",
      "-575050039314297816\n",
      "737869762948381699\n",
      "1\n"
     ]
    }
   ],
   "source": [
    "print(hash(4))\n",
    "print(hash('four'))\n",
    "print(hash(3.32))\n",
    "print(hash(True))"
   ]
  },
  {
   "cell_type": "code",
   "execution_count": 3,
   "id": "ee179fe1-6593-4dd6-87c6-605f39b718ef",
   "metadata": {},
   "outputs": [
    {
     "name": "stdout",
     "output_type": "stream",
     "text": [
      "False\n",
      "False\n"
     ]
    }
   ],
   "source": [
    "content_ratings = {'4+': 4433, '9+': 987, '12+': 1155, '17+': 622}\n",
    "\n",
    "print(4433 in content_ratings)\n",
    "print(987 in content_ratings)"
   ]
  },
  {
   "cell_type": "code",
   "execution_count": null,
   "id": "ccc65b15-6f62-4a8a-9020-55ac59ebdb93",
   "metadata": {},
   "outputs": [],
   "source": [
    "content_ratings = {'4+': 4433, '9+': 987, '12+': 1155, '17+': 622}\n",
    "is_in_dictionary_1 =  True\n",
    "is_in_dictionary_2 =  False\n",
    "print('9+' in content_ratings)\n",
    "print(987 in content_ratings)\n",
    "if '17+' in content_ratings:\n",
    "    result = \"It exists\" \n",
    "print(result)"
   ]
  },
  {
   "cell_type": "code",
   "execution_count": null,
   "id": "d3a25afd-8f05-4700-a9b8-fc5f0556d5ce",
   "metadata": {},
   "outputs": [],
   "source": [
    "content_ratings = {'4+': 622, '12+': '1155', '9+': 987, '17+': 4433}\n",
    "temp = content_ratings['4+']\n",
    "content_ratings['4+'] = content_ratings['17+']\n",
    "content_ratings['17+'] = temp\n",
    "content_ratings['12+'] = int(content_ratings['12+'])\n",
    "print(content_ratings)"
   ]
  },
  {
   "cell_type": "code",
   "execution_count": null,
   "id": "56c10cef-b7a2-4cc3-beef-6b58ecf18e85",
   "metadata": {},
   "outputs": [],
   "source": [
    "opened_file = open('AppleStore.csv')\n",
    "from csv import reader\n",
    "read_file = reader(opened_file)\n",
    "apps_data = list(read_file)\n",
    "content_ratings = {'4+': 0, '9+': 0, '12+': 0, '17+': 0}\n",
    "\n",
    "for row in apps_data[1:]:\n",
    "    c_rating = row[10]\n",
    "    if c_rating in content_ratings:\n",
    "        content_ratings[c_rating] += 1\n",
    "        \n",
    "print(content_ratings)"
   ]
  },
  {
   "cell_type": "code",
   "execution_count": null,
   "id": "408f8c7f-2d71-4eb4-b2c5-71fcc7d3ca16",
   "metadata": {},
   "outputs": [],
   "source": [
    "content_ratings = {'4+': 4433, '12+': 1155, '9+': 987, '17+': 622}\n",
    "total_number_of_apps = 7197\n",
    "for i in content_ratings:\n",
    "    content_ratings[i] /= total_number_of_apps\n",
    "    content_ratings[i] *= 100\n",
    "print(i)\n",
    "percentage_17_plus = content_ratings['17+']\n",
    "percentage_15_allowed = 100 - percentage_17_plus\n",
    "print(percentage_15_allowed)"
   ]
  },
  {
   "cell_type": "code",
   "execution_count": null,
   "id": "a4b054a3-5526-499d-890e-2bc7c27e4122",
   "metadata": {},
   "outputs": [],
   "source": [
    "content_ratings = {'4+': 4433, '12+': 1155, '9+': 987, '17+': 622}\n",
    "total_number_of_apps = 7197\n",
    "c_ratings_proportions = {}\n",
    "\n",
    "for key in content_ratings:\n",
    "    proportion = (content_ratings[key] / total_number_of_apps)     \n",
    "    c_ratings_proportions[key] = proportion\n",
    "\n",
    "print(c_ratings_proportions)\n",
    "print(content_ratings)\n",
    "Output\n",
    "{'4+': 0.6159510907322495, '12+': 0.16048353480616923, \n",
    " '9+': 0.13714047519799916, '17+': 0.08642489926358204}\n",
    "{'4+': 4433, '12+': 1155, '9+': 987, '17+': 622}"
   ]
  },
  {
   "cell_type": "code",
   "execution_count": null,
   "id": "37cad5ff-e380-4534-9429-35000d7ca56a",
   "metadata": {},
   "outputs": [],
   "source": [
    "content_ratings = {'4+': 4433, '12+': 1155, '9+': 987, '17+': 622}\n",
    "total_number_of_apps = 7197\n",
    "c_ratings_proportions = {}\n",
    "c_ratings_percentages = {}\n",
    "for key in content_ratings:\n",
    "    proportion = (content_ratings[key] / total_number_of_apps)     \n",
    "    c_ratings_proportions[key] = proportion\n",
    "    c_ratings_percentages[key] = proportion * 100\n",
    "print(c_ratings_proportions)\n",
    "print(c_ratings_percentages)"
   ]
  },
  {
   "cell_type": "code",
   "execution_count": null,
   "id": "f6d83e58-2283-4b63-acd3-a0d311dea854",
   "metadata": {},
   "outputs": [],
   "source": [
    "size_freq = {}\n",
    "\n",
    "for row in apps_data[1:]:\n",
    "    size = row[2]\n",
    "\n",
    "    if size in size_freq:\n",
    "        size_freq[size] +=1\n",
    "    else:\n",
    "        size_freq[size] = 1\n",
    "\n",
    "print(len(size_freq))\n",
    "print(size_freq)\n",
    "Output\n",
    "7107\n",
    "{'389879808': 1, '113954816': 1, '116476928': 1, \n",
    " '65921024': 1, '130242560': 1, '74778624': 1, ...}"
   ]
  },
  {
   "cell_type": "code",
   "execution_count": null,
   "id": "ac4a8d16-d277-44e4-961c-68a7cc092c66",
   "metadata": {},
   "outputs": [],
   "source": [
    "opened_file = open('AppleStore.csv')\n",
    "from csv import reader\n",
    "read_file = reader(opened_file)\n",
    "apps_data = list(read_file)\n",
    "data_sizes = []\n",
    "for row in apps_data[1:]:\n",
    "    size = float(row[2])\n",
    "    data_sizes.append(size)\n",
    "min_size = min(data_sizes)\n",
    "max_size = max(data_sizes)\n",
    "print(min_size)\n",
    "print(max_size"
   ]
  },
  {
   "cell_type": "code",
   "execution_count": null,
   "id": "d74b370a-5ea8-489c-a292-e6d250f4184a",
   "metadata": {},
   "outputs": [],
   "source": [
    "opened_file = open('AppleStore.csv')\n",
    "from csv import reader\n",
    "read_file = reader(opened_file)\n",
    "apps_data = list(read_file)"
   ]
  },
  {
   "cell_type": "code",
   "execution_count": 7,
   "id": "c9e043f4-f06f-4376-93ae-73b9b6086a1d",
   "metadata": {},
   "outputs": [
    {
     "name": "stdout",
     "output_type": "stream",
     "text": [
      "{'0 - 10 MB': 0, '10 - 50 MB': 0, '50 - 100 MB': 0, '100 - 500 MB': 0, '500 MB +': 0}\n"
     ]
    }
   ],
   "source": [
    "data_sizes = {'0 - 10 MB': 0, '10 - 50 MB': 0, '50 - 100 MB': 0,\n",
    "                    '100 - 500 MB': 0, '500 MB +': 0}\n",
    "print(data_sizes)"
   ]
  },
  {
   "cell_type": "code",
   "execution_count": null,
   "id": "59c9ccac-8da4-402b-b0b9-4c72a3b2d7a8",
   "metadata": {},
   "outputs": [],
   "source": [
    "opened_file = open('AppleStore.csv')\n",
    "from csv import reader\n",
    "read_file = reader(opened_file)\n",
    "apps_data = list(read_file)\n",
    "rating_count_tot = {}\n",
    "for row in apps_data[1:]:\n",
    "    rating_count_tot = float(row[5])\n",
    "    if rating_count_tot <= 1000000:\n",
    "        rating_count_tot['0 - 10 MB'] += 1\n",
    "    elif 10000000 < rating_count_tot <= 50000000:\n",
    "        rating_count_tot['10 - 50 MB'] += 1\n",
    "    elif 50000000 < rating_count_tot <= 100000000:\n",
    "        rating_count_tot['50 - 100 MB'] += 1\n",
    "    elif 100000000 < rating_count_tot <= 500000000:\n",
    "        rating_count_tot['100 - 500 MB'] += 1\n",
    "    elif rating_count_tot > 500000000:\n",
    "        rating_count_tot['500 MB +'] += 1\n",
    "    \n",
    "print(min(rating_count_tot))\n",
    "print(max(rating_count_tot))"
   ]
  },
  {
   "cell_type": "code",
   "execution_count": 17,
   "id": "52e87e36-969e-45b2-82b7-5e4f3e8c1b8a",
   "metadata": {},
   "outputs": [
    {
     "name": "stdout",
     "output_type": "stream",
     "text": [
      "(('John', 'Jenny'), ('Charles', 'Christy'), ('Mike', 'Monica'))\n"
     ]
    }
   ],
   "source": [
    "a = (\"John\", \"Charles\", \"Mike\")\n",
    "b = (\"Jenny\", \"Christy\", \"Monica\")\n",
    "x = zip(a, b)\n",
    "print(tuple(x))"
   ]
  },
  {
   "cell_type": "code",
   "execution_count": null,
   "id": "b1323334-f4bd-4074-990a-538eb0bd8cb5",
   "metadata": {},
   "outputs": [],
   "source": [
    "a_list = [4444, 8897, 6340, 9896, 4835, 4324, 10, 6445,\n",
    "          661, 1246, 1000, 7429, 1376, 8121, 647, 1280,\n",
    "          3993, 4881, 9500, 6701, 1199, 6251, 4432, 37]\n",
    "sum_manual = 0\n",
    "for i in a_list :\n",
    "    sum_manual += i\n",
    "    \n",
    "print(sum_manual)\n",
    "print(sum(a_list))\n",
    "    "
   ]
  },
  {
   "cell_type": "code",
   "execution_count": null,
   "id": "df15e5ca-5710-4dd2-8d03-3d6683546349",
   "metadata": {},
   "outputs": [],
   "source": [
    "ratings = ['4+', '4+', '4+', '9+', '12+', '12+', '17+', '17+']\n",
    "content_ratings = {}\n",
    "for i in ratings:\n",
    "    if i in content_ratings:\n",
    "        content_ratings[i] += 1\n",
    "    else:\n",
    "        content_ratings[i] = 1\n",
    "print(content_ratings)    "
   ]
  },
  {
   "cell_type": "code",
   "execution_count": 33,
   "id": "74beb5ba-20a3-4e9c-865a-d7f02b996a0d",
   "metadata": {},
   "outputs": [
    {
     "name": "stdout",
     "output_type": "stream",
     "text": [
      "July 15, 2006\n",
      "February 4, 2004\n",
      "June 9, 1949\n"
     ]
    }
   ],
   "source": [
    "def date(month, day, year):\n",
    "    return month + \" \" + str(day)+ \", \" + str(year)\n",
    "print(date(\"July\", 15, 2006))\n",
    "print(date(\"February\", 4, 2004))\n",
    "print(date(\"June\", 9, 1949))"
   ]
  },
  {
   "cell_type": "code",
   "execution_count": 31,
   "id": "71bff0d2-5e74-4b8c-aec2-1ae9933249d0",
   "metadata": {},
   "outputs": [
    {
     "name": "stdout",
     "output_type": "stream",
     "text": [
      "36\n",
      "49\n"
     ]
    }
   ],
   "source": [
    "def square(a_number):\n",
    "    squared_number = a_number * a_number\n",
    "    return squared_number\n",
    "    \n",
    "print(square(6))\n",
    "print(square(7))\n",
    "\n",
    "    "
   ]
  },
  {
   "cell_type": "code",
   "execution_count": null,
   "id": "2e68439a-7277-45b2-baf5-b3e76e149a5e",
   "metadata": {},
   "outputs": [],
   "source": [
    "content_ratings = {}\n",
    "ratings = ['4+', '4+', '4+', '9+', '9+', '12+', '17+']\n",
    "\n",
    "for c_rating in ratings:\n",
    "    if c_rating in content_ratings:\n",
    "        content_ratings[c_rating] += 1\n",
    "    else:\n",
    "        content_ratings[c_rating] = 1\n",
    "\n",
    "print(content_ratings)"
   ]
  },
  {
   "cell_type": "code",
   "execution_count": null,
   "id": "48d85a0d-3cf6-4974-9c58-b95f5ccdad47",
   "metadata": {},
   "outputs": [],
   "source": [
    "opened_file = open('AppleStore.csv')\n",
    "from csv import reader\n",
    "read_file = reader(opened_file)\n",
    "apps_data = list(read_file)\n",
    "\n",
    "def extract(index):\n",
    "    column = []    \n",
    "    for row in apps_data[1:]:\n",
    "        value = row[index]\n",
    "        column.append(value)    \n",
    "    return column\n",
    "\n",
    "genres = extract(11)\n",
    "def freq_table(full):\n",
    "    f_table = {}\n",
    "    for i in full:\n",
    "        if i in f_table:\n",
    "            f_table[i] += 1\n",
    "        else:\n",
    "            f_table[i] = 1\n",
    "    return f_table\n",
    "genres_ft = freq_table(genres)\n",
    "print(extract)\n",
    "print(freq_table)\n",
    "        "
   ]
  },
  {
   "cell_type": "code",
   "execution_count": null,
   "id": "f74ac14e-721d-4164-85ad-0ec257442de2",
   "metadata": {},
   "outputs": [],
   "source": [
    "opened_file = open('AppleStore.csv')\n",
    "from csv import reader\n",
    "read_file = reader(opened_file)\n",
    "apps_data = list(read_file)\n",
    "def freq_table(index):\n",
    "    frequency_table = {}\n",
    "    \n",
    "    for row in apps_data[1:]:\n",
    "        value = row[index]\n",
    "        if value in frequency_table:\n",
    "            frequency_table[value] += 1\n",
    "        else:\n",
    "            frequency_table[value] = 1\n",
    "            \n",
    "    return frequency_table\n",
    "ratings_ft = freq_table(7)\n",
    "print(ratings_ft)"
   ]
  },
  {
   "cell_type": "code",
   "execution_count": null,
   "id": "c713a86c-b6e7-4ca0-96bc-7867d47e92df",
   "metadata": {},
   "outputs": [],
   "source": [
    "opened_file = open('AppleStore.csv')\n",
    "from csv import reader\n",
    "read_file = reader(opened_file)\n",
    "apps_data = list(read_file)\n",
    "\n",
    "def freq_table(data_set, index):\n",
    "    frequency_table = {}\n",
    "    \n",
    "    for row in data_set[1:]:\n",
    "        value = row[index]\n",
    "        if value in frequency_table:\n",
    "            frequency_table[value] += 1\n",
    "        else:\n",
    "            frequency_table[value] = 1\n",
    "        \n",
    "    return frequency_table\n",
    "content_ratings_ft = freq_table(apps_data, 10)\n",
    "ratings_ft = freq_table(apps_data , 7)\n",
    "genres_ft = freq_table(apps_data, 11)"
   ]
  },
  {
   "cell_type": "code",
   "execution_count": 35,
   "id": "182959e9-49bb-4d83-ae28-6d8e1e083b7b",
   "metadata": {},
   "outputs": [],
   "source": [
    "def find_sum(a_list):\n",
    "    a_sum = 0\n",
    "    for element in a_list:\n",
    "        a_sum += float(element)\n",
    "    return a_sum\n",
    "\n",
    "def find_length(a_list):\n",
    "    length = 0\n",
    "    for element in a_list:\n",
    "        length += 1\n",
    "    return length"
   ]
  },
  {
   "cell_type": "code",
   "execution_count": null,
   "id": "4b626345-ae94-429c-b78d-dab0753c88a8",
   "metadata": {},
   "outputs": [],
   "source": [
    "opened_file = open('AppleStore.csv')\n",
    "from csv import reader\n",
    "read_file = reader(opened_file)\n",
    "apps_data = list(read_file)\n",
    "\n",
    "def extract(data_set, index):\n",
    "    column = []    \n",
    "    for row in data_set[1:]:\n",
    "        value = row[index]\n",
    "        column.append(value)    \n",
    "    return column\n",
    "\n",
    "def find_sum(a_list):\n",
    "    a_sum = 0\n",
    "    for element in a_list:\n",
    "        a_sum += float(element)\n",
    "    return a_sum\n",
    "\n",
    "def find_length(a_list):\n",
    "    length = 0\n",
    "    for element in a_list:\n",
    "        length += 1\n",
    "    return length\n",
    "def mean(data_set, index):\n",
    "    i = extract(data_set, index)\n",
    "    a = find_sum(i)\n",
    "    b = find_length(i)\n",
    "    c = a / b\n",
    "    return c\n",
    "avg_price = mean(apps_data, 4)\n"
   ]
  },
  {
   "cell_type": "code",
   "execution_count": 41,
   "id": "bc4f8c01-5437-4bd8-913e-307bcd8a1989",
   "metadata": {},
   "outputs": [
    {
     "name": "stdout",
     "output_type": "stream",
     "text": [
      "3.4\n",
      "0.23\n",
      "921.22252\n"
     ]
    }
   ],
   "source": [
    "one_decimal = round(3.43, 1)\n",
    "two_decimals = round(0.23321, 2 )\n",
    "five_decimals = round(921.2225227, 5)\n",
    "print(one_decimal)\n",
    "print(two_decimals)\n",
    "print(five_decimals)"
   ]
  },
  {
   "cell_type": "code",
   "execution_count": null,
   "id": "d19d15f4-740c-4c44-9659-cbe70859d3f6",
   "metadata": {},
   "outputs": [],
   "source": [
    "def open_dataset(file_name = 'AppleStore.csv' ):\n",
    "    \n",
    "    opened_file = open(file_name)\n",
    "    from csv import reader\n",
    "    read_file = reader(opened_file)\n",
    "    data = list(read_file)\n",
    "    \n",
    "    return data\n",
    "apps_data = open_dataset()\n",
    "print(apps_data)"
   ]
  },
  {
   "cell_type": "code",
   "execution_count": null,
   "id": "e0c8e2d8-9185-4465-9bb2-16eef06b2089",
   "metadata": {},
   "outputs": [],
   "source": [
    "def open_dataset(file_name='AppleStore.csv', header=True):        \n",
    "    opened_file = open(file_name)\n",
    "    from csv import reader\n",
    "    read_file = reader(opened_file)\n",
    "    data = list(read_file)\n",
    "    \n",
    "    if header:\n",
    "        return data[1:]\n",
    "    else:\n",
    "        return data"
   ]
  },
  {
   "cell_type": "code",
   "execution_count": null,
   "id": "dfb1a703-26f1-4c78-b374-52a6ae624489",
   "metadata": {},
   "outputs": [],
   "source": [
    "def open_dataset(file_name='AppleStore.csv', header=True):        \n",
    "    opened_file = open(file_name)\n",
    "    from csv import reader\n",
    "    read_file = reader(opened_file)\n",
    "    data = list(read_file)\n",
    "    \n",
    "    if header:\n",
    "        return data[1:]\n",
    "    else:\n",
    "        return data\n",
    "apps_data = list(open_dataset(\"AppleStore.csv\", header = True))    \n",
    "    "
   ]
  },
  {
   "cell_type": "code",
   "execution_count": null,
   "id": "ec5688bc-2ed0-4cca-9eb7-53ee67ef1e95",
   "metadata": {},
   "outputs": [],
   "source": [
    "def pythagorean(a , b):\n",
    "    a_squared = a**2\n",
    "    b_squared = b**2\n",
    "    c_squared = a_squared + b_squared\n",
    "    return a_squared, b_squared, c_squared\n",
    "print(pythagorean(5, 12))    \n",
    "    "
   ]
  },
  {
   "cell_type": "code",
   "execution_count": null,
   "id": "07903fc1-932f-43a5-a01b-13eeb44bd7b5",
   "metadata": {},
   "outputs": [],
   "source": [
    "def open_dataset(file_name='AppleStore.csv', header=True):        \n",
    "    opened_file = open(file_name)\n",
    "    from csv import reader\n",
    "    read_file = reader(opened_file)\n",
    "    data = list(read_file)\n",
    "    \n",
    "    if header:\n",
    "        return data[0], data[1:]\n",
    "    else:\n",
    "        return data\n",
    "\n",
    "header, apps_data = open_dataset(file_name ='AppleStore.csv', header=True)\n",
    "\n",
    "    "
   ]
  },
  {
   "cell_type": "code",
   "execution_count": 45,
   "id": "6f5a1e52-844a-48d8-8938-c3b7de143175",
   "metadata": {},
   "outputs": [
    {
     "name": "stdout",
     "output_type": "stream",
     "text": [
      "3.14\n",
      "10\n"
     ]
    }
   ],
   "source": [
    "x = 10\n",
    "\n",
    "def print_constant():\n",
    "    x = 3.14\n",
    "    print(x)\n",
    "\n",
    "print_constant()\n",
    "print(x)"
   ]
  },
  {
   "cell_type": "code",
   "execution_count": 49,
   "id": "2d9c6015-5731-4977-b9f2-197692bf4f2a",
   "metadata": {},
   "outputs": [
    {
     "name": "stdout",
     "output_type": "stream",
     "text": [
      "2.72\n",
      "1000\n",
      "50\n"
     ]
    }
   ],
   "source": [
    "e = 'mathematical constant'\n",
    "a_sum = 1000\n",
    "length = 50\n",
    "def exponential(x):\n",
    "    e = 2.72 \n",
    "    print(e)\n",
    "    return (e, x)\n",
    "result = exponential(5)\n",
    "def divide():\n",
    "    print(a_sum)\n",
    "    print(length)\n",
    "    return (a_sum, length)    \n",
    "result_2 = divide()"
   ]
  },
  {
   "cell_type": "code",
   "execution_count": 57,
   "id": "90cdf354-571b-4f97-a7e6-327f1b489bc4",
   "metadata": {},
   "outputs": [
    {
     "name": "stdout",
     "output_type": "stream",
     "text": [
      "Welcome to Dataquest!\n",
      "Welcome to Jupyter Notebook!\n",
      "Welcome to Python!\n"
     ]
    }
   ],
   "source": [
    "def welcome(a_string):\n",
    "    print(\"Welcome to \" + a_string + \"!\")\n",
    "dq = \"Dataquest\"  \n",
    "jn = \"Jupyter Notebook\"\n",
    "py = \"Python\"\n",
    "welcome(dq)\n",
    "welcome(jn)\n",
    "welcome(py)"
   ]
  },
  {
   "cell_type": "code",
   "execution_count": null,
   "id": "c430e3ee-95a2-4862-83c4-ee2c669f2efd",
   "metadata": {},
   "outputs": [],
   "source": []
  },
  {
   "cell_type": "code",
   "execution_count": null,
   "id": "edcd9b0a-3693-40a3-9bf4-88705d5a4f2f",
   "metadata": {},
   "outputs": [],
   "source": []
  },
  {
   "cell_type": "code",
   "execution_count": null,
   "id": "ba61178d-0c6b-421a-bd05-00b10b115ee7",
   "metadata": {},
   "outputs": [],
   "source": []
  },
  {
   "cell_type": "code",
   "execution_count": null,
   "id": "824afd25-5826-4474-b241-46fdbc6f28e4",
   "metadata": {},
   "outputs": [],
   "source": []
  },
  {
   "cell_type": "code",
   "execution_count": null,
   "id": "ee3fd915-48f4-4497-b8c9-c9b64bacbc6b",
   "metadata": {},
   "outputs": [],
   "source": []
  }
 ],
 "metadata": {
  "kernelspec": {
   "display_name": "Python 3 (ipykernel)",
   "language": "python",
   "name": "python3"
  },
  "language_info": {
   "codemirror_mode": {
    "name": "ipython",
    "version": 3
   },
   "file_extension": ".py",
   "mimetype": "text/x-python",
   "name": "python",
   "nbconvert_exporter": "python",
   "pygments_lexer": "ipython3",
   "version": "3.12.4"
  }
 },
 "nbformat": 4,
 "nbformat_minor": 5
}
