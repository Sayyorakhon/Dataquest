{
 "cells": [
  {
   "cell_type": "code",
   "execution_count": 9,
   "id": "2a6707a5-5b7f-4945-ab47-6f24bf6e66b5",
   "metadata": {},
   "outputs": [
    {
     "name": "stdout",
     "output_type": "stream",
     "text": [
      "1.99\n",
      "20.97\n",
      "2\n",
      "20\n"
     ]
    }
   ],
   "source": [
    "#Conversion Between Types\n",
    "personal_apps = 0\n",
    "personal_apps += 1.99\n",
    "\n",
    "gift_apps = 6.99\n",
    "gift_apps *= 3 \n",
    "\n",
    "print(personal_apps)\n",
    "print(gift_apps)\n",
    "personal_apps = round(personal_apps)\n",
    "gift_apps = int(gift_apps)\n",
    "print(personal_apps)\n",
    "print(gift_apps)"
   ]
  },
  {
   "cell_type": "code",
   "execution_count": null,
   "id": "3dc284f6-8ef6-4219-a3fc-1e6d9ffd0ad8",
   "metadata": {},
   "outputs": [],
   "source": []
  }
 ],
 "metadata": {
  "kernelspec": {
   "display_name": "Python 3 (ipykernel)",
   "language": "python",
   "name": "python3"
  },
  "language_info": {
   "codemirror_mode": {
    "name": "ipython",
    "version": 3
   },
   "file_extension": ".py",
   "mimetype": "text/x-python",
   "name": "python",
   "nbconvert_exporter": "python",
   "pygments_lexer": "ipython3",
   "version": "3.12.4"
  }
 },
 "nbformat": 4,
 "nbformat_minor": 5
}
