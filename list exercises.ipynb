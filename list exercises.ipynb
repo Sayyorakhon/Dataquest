{
 "cells": [
  {
   "cell_type": "code",
   "execution_count": 27,
   "id": "522d3348-e05a-4726-80e4-a494526f8941",
   "metadata": {
    "scrolled": true
   },
   "outputs": [
    {
     "name": "stdout",
     "output_type": "stream",
     "text": [
      "4\n"
     ]
    }
   ],
   "source": [
    "letters = [\"a\", \"b\", \"c\", \"d\"]\n",
    "length = len(letters)\n",
    "print(length)"
   ]
  },
  {
   "cell_type": "markdown",
   "id": "db8999a2-6a4a-4d8c-87a6-226f88d51a55",
   "metadata": {},
   "source": [
    "## List Slicing"
   ]
  },
  {
   "cell_type": "code",
   "execution_count": 8,
   "id": "e9c587bb-b1aa-4194-8a62-6aa93775b788",
   "metadata": {},
   "outputs": [
    {
     "name": "stdout",
     "output_type": "stream",
     "text": [
      "[2, 3, 4, 5, 6]\n",
      "[0, 1, 2, 3, 4]\n",
      "[7, 8, 9]\n",
      "[7, 8, 9]\n",
      "[1, 3, 5, 7]\n",
      "[9, 8, 7, 6, 5, 4, 3, 2, 1, 0]\n",
      "[0, 1, 2, 3, 4, 5, 6, 7, 8, 9]\n"
     ]
    }
   ],
   "source": [
    "numbers = [0, 1, 2, 3, 4, 5, 6, 7, 8, 9]\n",
    "print(numbers[2:7])  \n",
    "print(numbers[:5])   \n",
    "print(numbers[7:])   \n",
    "print(numbers[-3:])  \n",
    "print(numbers[1:8:2])  \n",
    "print(numbers[::-1])  \n",
    "copy_of_numbers = numbers[:]\n",
    "print(copy_of_numbers) "
   ]
  },
  {
   "cell_type": "code",
   "execution_count": null,
   "id": "26d67e45-5c79-44fd-b309-fa58c2003325",
   "metadata": {},
   "outputs": [],
   "source": []
  },
  {
   "cell_type": "code",
   "execution_count": null,
   "id": "46e96a2c-2a0f-48d7-8c15-f495f337aac1",
   "metadata": {},
   "outputs": [],
   "source": []
  }
 ],
 "metadata": {
  "kernelspec": {
   "display_name": "Python 3 (ipykernel)",
   "language": "python",
   "name": "python3"
  },
  "language_info": {
   "codemirror_mode": {
    "name": "ipython",
    "version": 3
   },
   "file_extension": ".py",
   "mimetype": "text/x-python",
   "name": "python",
   "nbconvert_exporter": "python",
   "pygments_lexer": "ipython3",
   "version": "3.12.4"
  }
 },
 "nbformat": 4,
 "nbformat_minor": 5
}
